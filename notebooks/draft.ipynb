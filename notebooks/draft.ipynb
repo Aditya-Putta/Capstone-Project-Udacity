{
 "cells": [
  {
   "cell_type": "markdown",
   "metadata": {},
   "source": [
    "### Feature Importance"
   ]
  },
  {
   "cell_type": "code",
   "execution_count": null,
   "metadata": {},
   "outputs": [],
   "source": [
    "from xgboost import XGBRegressor, plot_importance\n",
    "from sklearn.model_selection import train_test_split"
   ]
  },
  {
   "cell_type": "code",
   "execution_count": null,
   "metadata": {},
   "outputs": [],
   "source": [
    "apple_stock2 = apple_stock_TA_plus2.drop(columns='Adj Close') # We don't need this column\n",
    "\n",
    "X = apple_stock2.drop(columns='Close')\n",
    "y = apple_stock2['Close']\n",
    "\n",
    "X_train, X_test, y_train, y_test = \\\n",
    "    train_test_split(X, y, test_size=0.30, random_state=42, shuffle=False)"
   ]
  },
  {
   "cell_type": "code",
   "execution_count": null,
   "metadata": {},
   "outputs": [],
   "source": [
    "regressor = XGBRegressor()"
   ]
  },
  {
   "cell_type": "code",
   "execution_count": null,
   "metadata": {},
   "outputs": [],
   "source": [
    "regressor.fit(X_train, y_train, eval_set=[(X_test, y_test)], verbose=False)"
   ]
  },
  {
   "cell_type": "code",
   "execution_count": null,
   "metadata": {},
   "outputs": [],
   "source": [
    "fig, ax = plt.subplots(figsize=(20, 0))\n",
    "plot_importance(regressor, ax=ax)"
   ]
  },
  {
   "cell_type": "markdown",
   "metadata": {},
   "source": [
    "How about calculating the importance of the features to predict next day price?"
   ]
  },
  {
   "cell_type": "code",
   "execution_count": null,
   "metadata": {},
   "outputs": [],
   "source": [
    "X_train_1 = X_train[:-1]\n",
    "y_train_1 = y_train[1:]\n",
    "X_test_1 = X_test[:-1]\n",
    "y_test_1 = y_test[1:]"
   ]
  },
  {
   "cell_type": "code",
   "execution_count": null,
   "metadata": {},
   "outputs": [],
   "source": [
    "regressor_1 = XGBRegressor()\n",
    "regressor_1.fit(X_train_1, y_train_1, eval_set=[(X_test_1, y_test_1)], verbose=False)"
   ]
  },
  {
   "cell_type": "code",
   "execution_count": null,
   "metadata": {},
   "outputs": [],
   "source": [
    "fig, ax = plt.subplots(figsize=(20, 20))\n",
    "plot_importance(regressor_1, ax=ax)"
   ]
  },
  {
   "cell_type": "markdown",
   "metadata": {},
   "source": [
    "next few weeks?"
   ]
  },
  {
   "cell_type": "code",
   "execution_count": null,
   "metadata": {},
   "outputs": [],
   "source": [
    "X_train_15 = X_train[:-15]\n",
    "y_train_15 = y_train[15:]\n",
    "X_test_15 = X_test[:-15]\n",
    "y_test_15 = y_test[15:]"
   ]
  },
  {
   "cell_type": "code",
   "execution_count": null,
   "metadata": {},
   "outputs": [],
   "source": [
    "regressor_15 = XGBRegressor()\n",
    "regressor_15.fit(X_train_15, y_train_15, eval_set=[(X_test_15, y_test_15)], verbose=False)"
   ]
  },
  {
   "cell_type": "code",
   "execution_count": null,
   "metadata": {},
   "outputs": [],
   "source": [
    "fig, ax = plt.subplots(figsize=(20, 20))\n",
    "plot_importance(regressor_15, ax=ax)"
   ]
  },
  {
   "cell_type": "markdown",
   "metadata": {},
   "source": [
    "next month?"
   ]
  },
  {
   "cell_type": "code",
   "execution_count": null,
   "metadata": {},
   "outputs": [],
   "source": [
    "X_train_21 = X_train[:-21]\n",
    "y_train_21 = y_train[21:]\n",
    "X_test_21 = X_test[:-21]\n",
    "y_test_21 = y_test[21:]"
   ]
  },
  {
   "cell_type": "code",
   "execution_count": null,
   "metadata": {
    "scrolled": true
   },
   "outputs": [],
   "source": [
    "regressor_21 = XGBRegressor()\n",
    "regressor_21.fit(X_train_21, y_train_21, eval_set=[(X_test_21, y_test_21)], verbose=False)"
   ]
  },
  {
   "cell_type": "code",
   "execution_count": null,
   "metadata": {},
   "outputs": [],
   "source": [
    "fig, ax = plt.subplots(figsize=(20, 20))\n",
    "plot_importance(regressor_21, ax=ax)"
   ]
  },
  {
   "cell_type": "markdown",
   "metadata": {},
   "source": [
    "next year?"
   ]
  },
  {
   "cell_type": "code",
   "execution_count": null,
   "metadata": {},
   "outputs": [],
   "source": [
    "X_train_252 = X_train[:-252]\n",
    "y_train_252 = y_train[252:]\n",
    "X_test_252 = X_test[:-252]\n",
    "y_test_252 = y_test[252:]"
   ]
  },
  {
   "cell_type": "code",
   "execution_count": null,
   "metadata": {},
   "outputs": [],
   "source": [
    "regressor_252 = XGBRegressor()\n",
    "regressor_252.fit(X_train_252, y_train_252, eval_set=[(X_test_252, y_test_252)], verbose=False)"
   ]
  },
  {
   "cell_type": "code",
   "execution_count": null,
   "metadata": {},
   "outputs": [],
   "source": [
    "fig, ax = plt.subplots(figsize=(20, 30))\n",
    "plot_importance(regressor_252, ax=ax)"
   ]
  },
  {
   "cell_type": "markdown",
   "metadata": {},
   "source": [
    "Interesting to see how this chart confirms the use of these features to predict future price movements"
   ]
  },
  {
   "cell_type": "markdown",
   "metadata": {},
   "source": [
    "### Feature Distributions"
   ]
  },
  {
   "cell_type": "markdown",
   "metadata": {},
   "source": [
    "As we can see, many features are highly correlated. Let's have a look at the distribution:"
   ]
  },
  {
   "cell_type": "code",
   "execution_count": null,
   "metadata": {},
   "outputs": [],
   "source": [
    "ncols=2\n",
    "nrows=10\n",
    "column_names = features_raw.columns.values\n",
    "\n",
    "fig, axs = plt.subplots(nrows=nrows, ncols=ncols, figsize=(12, 12))\n",
    "fig.tight_layout()\n",
    "\n",
    "c = 0\n",
    "r = 0\n",
    "\n",
    "for name in column_names:\n",
    "    sns.distplot(apple_stock2[name], hist=False, ax=axs[r, c])\n",
    "    \n",
    "    axs[r, c].get_yaxis().set_ticklabels([])\n",
    "    \n",
    "    if (c < ncols - 1):\n",
    "        c = c + 1\n",
    "    else:\n",
    "        c = 0\n",
    "        r = r + 1"
   ]
  },
  {
   "cell_type": "code",
   "execution_count": null,
   "metadata": {},
   "outputs": [],
   "source": []
  }
 ],
 "metadata": {
  "kernelspec": {
   "display_name": "Python 3",
   "language": "python",
   "name": "python3"
  },
  "language_info": {
   "codemirror_mode": {
    "name": "ipython",
    "version": 3
   },
   "file_extension": ".py",
   "mimetype": "text/x-python",
   "name": "python",
   "nbconvert_exporter": "python",
   "pygments_lexer": "ipython3",
   "version": "3.6.5"
  }
 },
 "nbformat": 4,
 "nbformat_minor": 2
}
